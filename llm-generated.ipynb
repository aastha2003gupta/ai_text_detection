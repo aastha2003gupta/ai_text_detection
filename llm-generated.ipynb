{
 "cells": [
  {
   "cell_type": "markdown",
   "id": "7c5da4ea",
   "metadata": {
    "papermill": {
     "duration": 0.007385,
     "end_time": "2023-12-13T15:11:19.619135",
     "exception": false,
     "start_time": "2023-12-13T15:11:19.611750",
     "status": "completed"
    },
    "tags": []
   },
   "source": [
    "# Importing Dependencies"
   ]
  },
  {
   "cell_type": "code",
   "execution_count": 1,
   "id": "ad94d113",
   "metadata": {
    "execution": {
     "iopub.execute_input": "2023-12-13T15:11:19.636105Z",
     "iopub.status.busy": "2023-12-13T15:11:19.635280Z",
     "iopub.status.idle": "2023-12-13T15:11:36.027020Z",
     "shell.execute_reply": "2023-12-13T15:11:36.026037Z"
    },
    "papermill": {
     "duration": 16.403141,
     "end_time": "2023-12-13T15:11:36.029755",
     "exception": false,
     "start_time": "2023-12-13T15:11:19.626614",
     "status": "completed"
    },
    "tags": []
   },
   "outputs": [],
   "source": [
    "import seaborn as sns\n",
    "import matplotlib.pyplot as plt\n",
    "import numpy as np \n",
    "import pandas as pd \n",
    "import os\n",
    "import re\n",
    "import tensorflow as tf"
   ]
  },
  {
   "cell_type": "markdown",
   "id": "d3d33446",
   "metadata": {
    "papermill": {
     "duration": 0.011239,
     "end_time": "2023-12-13T15:11:36.048336",
     "exception": false,
     "start_time": "2023-12-13T15:11:36.037097",
     "status": "completed"
    },
    "tags": []
   },
   "source": [
    "# Load data"
   ]
  },
  {
   "cell_type": "code",
   "execution_count": 2,
   "id": "3cd16b06",
   "metadata": {
    "execution": {
     "iopub.execute_input": "2023-12-13T15:11:36.069399Z",
     "iopub.status.busy": "2023-12-13T15:11:36.068479Z",
     "iopub.status.idle": "2023-12-13T15:11:38.794402Z",
     "shell.execute_reply": "2023-12-13T15:11:38.793263Z"
    },
    "papermill": {
     "duration": 2.73919,
     "end_time": "2023-12-13T15:11:38.796768",
     "exception": false,
     "start_time": "2023-12-13T15:11:36.057578",
     "status": "completed"
    },
    "tags": []
   },
   "outputs": [
    {
     "data": {
      "text/html": [
       "<div>\n",
       "<style scoped>\n",
       "    .dataframe tbody tr th:only-of-type {\n",
       "        vertical-align: middle;\n",
       "    }\n",
       "\n",
       "    .dataframe tbody tr th {\n",
       "        vertical-align: top;\n",
       "    }\n",
       "\n",
       "    .dataframe thead th {\n",
       "        text-align: right;\n",
       "    }\n",
       "</style>\n",
       "<table border=\"1\" class=\"dataframe\">\n",
       "  <thead>\n",
       "    <tr style=\"text-align: right;\">\n",
       "      <th></th>\n",
       "      <th>essay_id</th>\n",
       "      <th>text</th>\n",
       "      <th>label</th>\n",
       "    </tr>\n",
       "  </thead>\n",
       "  <tbody>\n",
       "    <tr>\n",
       "      <th>0</th>\n",
       "      <td>E0B86027C5C5</td>\n",
       "      <td>Okay, here is my essay:\\n\\nWorking or doing th...</td>\n",
       "      <td>1</td>\n",
       "    </tr>\n",
       "    <tr>\n",
       "      <th>1</th>\n",
       "      <td>8B9EEF86DD66</td>\n",
       "      <td>Dear Principal,\\r\\n\\r\\nI just want to let you ...</td>\n",
       "      <td>0</td>\n",
       "    </tr>\n",
       "    <tr>\n",
       "      <th>2</th>\n",
       "      <td>116FB053BEC7</td>\n",
       "      <td>I believe they should change the voting to pop...</td>\n",
       "      <td>0</td>\n",
       "    </tr>\n",
       "    <tr>\n",
       "      <th>3</th>\n",
       "      <td>A72A4397F9F5</td>\n",
       "      <td>One example of an inspiring individual who has...</td>\n",
       "      <td>1</td>\n",
       "    </tr>\n",
       "    <tr>\n",
       "      <th>4</th>\n",
       "      <td>D90A159EDD27</td>\n",
       "      <td>Dear Mr. Principal,\\n\\nI believe that students...</td>\n",
       "      <td>0</td>\n",
       "    </tr>\n",
       "  </tbody>\n",
       "</table>\n",
       "</div>"
      ],
      "text/plain": [
       "       essay_id                                               text  label\n",
       "0  E0B86027C5C5  Okay, here is my essay:\\n\\nWorking or doing th...      1\n",
       "1  8B9EEF86DD66  Dear Principal,\\r\\n\\r\\nI just want to let you ...      0\n",
       "2  116FB053BEC7  I believe they should change the voting to pop...      0\n",
       "3  A72A4397F9F5  One example of an inspiring individual who has...      1\n",
       "4  D90A159EDD27  Dear Mr. Principal,\\n\\nI believe that students...      0"
      ]
     },
     "execution_count": 2,
     "metadata": {},
     "output_type": "execute_result"
    }
   ],
   "source": [
    "df_train = pd.read_csv(\"/kaggle/input/daigt-proper-train-dataset/train_drcat_02.csv\")\n",
    "df_train = df_train.drop(['prompt','source','fold'],axis = 1)\n",
    "df_train.head()"
   ]
  },
  {
   "cell_type": "markdown",
   "id": "54b37148",
   "metadata": {
    "papermill": {
     "duration": 0.006788,
     "end_time": "2023-12-13T15:11:38.810875",
     "exception": false,
     "start_time": "2023-12-13T15:11:38.804087",
     "status": "completed"
    },
    "tags": []
   },
   "source": [
    "# Data Preprocessing"
   ]
  },
  {
   "cell_type": "markdown",
   "id": "41f7a9c8",
   "metadata": {
    "papermill": {
     "duration": 0.006754,
     "end_time": "2023-12-13T15:11:38.824673",
     "exception": false,
     "start_time": "2023-12-13T15:11:38.817919",
     "status": "completed"
    },
    "tags": []
   },
   "source": [
    "Converting text to numeric sequences, one-hot encodes labels, and ensures uniform sequence length through tokenization and padding. The resulting data is shaped for compatibility with a neural network model."
   ]
  },
  {
   "cell_type": "code",
   "execution_count": 3,
   "id": "fce3b529",
   "metadata": {
    "execution": {
     "iopub.execute_input": "2023-12-13T15:11:38.841090Z",
     "iopub.status.busy": "2023-12-13T15:11:38.839927Z",
     "iopub.status.idle": "2023-12-13T15:11:38.855276Z",
     "shell.execute_reply": "2023-12-13T15:11:38.854259Z"
    },
    "papermill": {
     "duration": 0.026228,
     "end_time": "2023-12-13T15:11:38.857917",
     "exception": false,
     "start_time": "2023-12-13T15:11:38.831689",
     "status": "completed"
    },
    "tags": []
   },
   "outputs": [],
   "source": [
    "df_train['text'] = df_train['text'].astype(str)\n",
    "data = df_train.copy()"
   ]
  },
  {
   "cell_type": "code",
   "execution_count": 4,
   "id": "f9d6b74d",
   "metadata": {
    "execution": {
     "iopub.execute_input": "2023-12-13T15:11:38.873926Z",
     "iopub.status.busy": "2023-12-13T15:11:38.873160Z",
     "iopub.status.idle": "2023-12-13T15:11:38.879019Z",
     "shell.execute_reply": "2023-12-13T15:11:38.877916Z"
    },
    "papermill": {
     "duration": 0.016526,
     "end_time": "2023-12-13T15:11:38.881484",
     "exception": false,
     "start_time": "2023-12-13T15:11:38.864958",
     "status": "completed"
    },
    "tags": []
   },
   "outputs": [],
   "source": [
    "labels = data['label'] "
   ]
  },
  {
   "cell_type": "code",
   "execution_count": 5,
   "id": "44dc68e2",
   "metadata": {
    "execution": {
     "iopub.execute_input": "2023-12-13T15:11:38.897097Z",
     "iopub.status.busy": "2023-12-13T15:11:38.896685Z",
     "iopub.status.idle": "2023-12-13T15:11:39.029880Z",
     "shell.execute_reply": "2023-12-13T15:11:39.028885Z"
    },
    "papermill": {
     "duration": 0.144239,
     "end_time": "2023-12-13T15:11:39.032715",
     "exception": false,
     "start_time": "2023-12-13T15:11:38.888476",
     "status": "completed"
    },
    "tags": []
   },
   "outputs": [],
   "source": [
    "from tensorflow.python.keras.utils import np_utils\n",
    "from tensorflow.keras.utils import to_categorical\n",
    "\n",
    "labels = to_categorical(np.asarray(labels ))"
   ]
  },
  {
   "cell_type": "code",
   "execution_count": 6,
   "id": "db51e069",
   "metadata": {
    "execution": {
     "iopub.execute_input": "2023-12-13T15:11:39.048537Z",
     "iopub.status.busy": "2023-12-13T15:11:39.048120Z",
     "iopub.status.idle": "2023-12-13T15:12:10.722651Z",
     "shell.execute_reply": "2023-12-13T15:12:10.721412Z"
    },
    "papermill": {
     "duration": 31.685733,
     "end_time": "2023-12-13T15:12:10.725466",
     "exception": false,
     "start_time": "2023-12-13T15:11:39.039733",
     "status": "completed"
    },
    "tags": []
   },
   "outputs": [],
   "source": [
    "from tensorflow.keras.preprocessing.text import Tokenizer\n",
    "\n",
    "max_sequence_length = 200   \n",
    "max_words = 2500   \n",
    "tokenizer = Tokenizer(num_words = max_words)  \n",
    "tokenizer.fit_on_texts(data.text)      \n",
    "sequences = tokenizer.texts_to_sequences(data.text)"
   ]
  },
  {
   "cell_type": "code",
   "execution_count": 7,
   "id": "2c0773b3",
   "metadata": {
    "execution": {
     "iopub.execute_input": "2023-12-13T15:12:10.741310Z",
     "iopub.status.busy": "2023-12-13T15:12:10.740912Z",
     "iopub.status.idle": "2023-12-13T15:12:11.579456Z",
     "shell.execute_reply": "2023-12-13T15:12:11.578364Z"
    },
    "papermill": {
     "duration": 0.849224,
     "end_time": "2023-12-13T15:12:11.581892",
     "exception": false,
     "start_time": "2023-12-13T15:12:10.732668",
     "status": "completed"
    },
    "tags": []
   },
   "outputs": [
    {
     "data": {
      "text/plain": [
       "(39785, 200)"
      ]
     },
     "execution_count": 7,
     "metadata": {},
     "output_type": "execute_result"
    }
   ],
   "source": [
    "from tensorflow.keras.preprocessing.sequence import pad_sequences\n",
    "data = pad_sequences(sequences, maxlen = max_sequence_length)\n",
    "data.shape "
   ]
  },
  {
   "cell_type": "markdown",
   "id": "1d79b2e2",
   "metadata": {
    "papermill": {
     "duration": 0.006723,
     "end_time": "2023-12-13T15:12:11.595711",
     "exception": false,
     "start_time": "2023-12-13T15:12:11.588988",
     "status": "completed"
    },
    "tags": []
   },
   "source": [
    "# Model Building"
   ]
  },
  {
   "cell_type": "markdown",
   "id": "2cdb8301",
   "metadata": {
    "papermill": {
     "duration": 0.006716,
     "end_time": "2023-12-13T15:12:11.609409",
     "exception": false,
     "start_time": "2023-12-13T15:12:11.602693",
     "status": "completed"
    },
    "tags": []
   },
   "source": [
    "Training a neural network model using Keras with TensorFlow backend. The model consists of an embedding layer, a bidirectional LSTM layer, global max pooling, and a dense layer with softmax activation. The model is compiled with binary crossentropy loss and the Adam optimizer. It is then trained on the preprocessed text data (data) and corresponding labels (labels) for 20 epochs with a batch size of 48."
   ]
  },
  {
   "cell_type": "code",
   "execution_count": 8,
   "id": "3c9f08f9",
   "metadata": {
    "execution": {
     "iopub.execute_input": "2023-12-13T15:12:11.625405Z",
     "iopub.status.busy": "2023-12-13T15:12:11.624987Z",
     "iopub.status.idle": "2023-12-13T15:12:11.633225Z",
     "shell.execute_reply": "2023-12-13T15:12:11.632235Z"
    },
    "papermill": {
     "duration": 0.019369,
     "end_time": "2023-12-13T15:12:11.635744",
     "exception": false,
     "start_time": "2023-12-13T15:12:11.616375",
     "status": "completed"
    },
    "tags": []
   },
   "outputs": [],
   "source": [
    "from tensorflow.keras.layers import Dense,  LSTM, Embedding  \n",
    "from tensorflow.keras.layers import Bidirectional, GlobalMaxPool1D\n",
    "from tensorflow.keras.models import Model\n",
    "from tensorflow.keras.models import Sequential\n",
    "from tensorflow.keras import initializers, regularizers, constraints, optimizers, layers\n",
    "from tensorflow.keras.layers import Dense, Input, Input, Flatten, Dropout, BatchNormalization "
   ]
  },
  {
   "cell_type": "code",
   "execution_count": 9,
   "id": "4f70221a",
   "metadata": {
    "execution": {
     "iopub.execute_input": "2023-12-13T15:12:11.651983Z",
     "iopub.status.busy": "2023-12-13T15:12:11.651606Z",
     "iopub.status.idle": "2023-12-13T15:12:12.198558Z",
     "shell.execute_reply": "2023-12-13T15:12:12.197438Z"
    },
    "papermill": {
     "duration": 0.558147,
     "end_time": "2023-12-13T15:12:12.201101",
     "exception": false,
     "start_time": "2023-12-13T15:12:11.642954",
     "status": "completed"
    },
    "tags": []
   },
   "outputs": [],
   "source": [
    "embedding_dim = 32 \n",
    "\n",
    "model = Sequential()\n",
    "model.add(Embedding(max_words, \n",
    "                   embedding_dim,\n",
    "                   input_length=max_sequence_length))\n",
    "\n",
    "model.add(Bidirectional(LSTM(16, return_sequences=True, dropout=0.4, recurrent_dropout=0.1)))   \n",
    "model.add(GlobalMaxPool1D())\n",
    "model.add(Dense(2,activation='softmax'))"
   ]
  },
  {
   "cell_type": "code",
   "execution_count": 10,
   "id": "9b8152a1",
   "metadata": {
    "execution": {
     "iopub.execute_input": "2023-12-13T15:12:12.217160Z",
     "iopub.status.busy": "2023-12-13T15:12:12.216778Z",
     "iopub.status.idle": "2023-12-13T15:12:12.236494Z",
     "shell.execute_reply": "2023-12-13T15:12:12.235291Z"
    },
    "papermill": {
     "duration": 0.031045,
     "end_time": "2023-12-13T15:12:12.239245",
     "exception": false,
     "start_time": "2023-12-13T15:12:12.208200",
     "status": "completed"
    },
    "tags": []
   },
   "outputs": [],
   "source": [
    "model.compile(loss = 'binary_crossentropy', optimizer='Adam', metrics = ['accuracy']) "
   ]
  },
  {
   "cell_type": "code",
   "execution_count": 11,
   "id": "7abba669",
   "metadata": {
    "execution": {
     "iopub.execute_input": "2023-12-13T15:12:12.255611Z",
     "iopub.status.busy": "2023-12-13T15:12:12.255206Z",
     "iopub.status.idle": "2023-12-13T16:13:25.977479Z",
     "shell.execute_reply": "2023-12-13T16:13:25.976204Z"
    },
    "papermill": {
     "duration": 3673.734087,
     "end_time": "2023-12-13T16:13:25.980472",
     "exception": false,
     "start_time": "2023-12-13T15:12:12.246385",
     "status": "completed"
    },
    "tags": []
   },
   "outputs": [
    {
     "name": "stdout",
     "output_type": "stream",
     "text": [
      "Epoch 1/20\n",
      "829/829 [==============================] - 187s 217ms/step - loss: 0.1552 - accuracy: 0.9377\n",
      "Epoch 2/20\n",
      "829/829 [==============================] - 185s 224ms/step - loss: 0.0339 - accuracy: 0.9897\n",
      "Epoch 3/20\n",
      "829/829 [==============================] - 194s 233ms/step - loss: 0.0156 - accuracy: 0.9954\n",
      "Epoch 4/20\n",
      "829/829 [==============================] - 188s 226ms/step - loss: 0.0105 - accuracy: 0.9972\n",
      "Epoch 5/20\n",
      "829/829 [==============================] - 182s 220ms/step - loss: 0.0100 - accuracy: 0.9969\n",
      "Epoch 6/20\n",
      "829/829 [==============================] - 178s 215ms/step - loss: 0.0093 - accuracy: 0.9972\n",
      "Epoch 7/20\n",
      "829/829 [==============================] - 177s 213ms/step - loss: 0.0060 - accuracy: 0.9982\n",
      "Epoch 8/20\n",
      "829/829 [==============================] - 177s 214ms/step - loss: 0.0053 - accuracy: 0.9983\n",
      "Epoch 9/20\n",
      "829/829 [==============================] - 179s 216ms/step - loss: 0.0042 - accuracy: 0.9986\n",
      "Epoch 10/20\n",
      "829/829 [==============================] - 179s 215ms/step - loss: 0.0049 - accuracy: 0.9983\n",
      "Epoch 11/20\n",
      "829/829 [==============================] - 177s 213ms/step - loss: 0.0036 - accuracy: 0.9989\n",
      "Epoch 12/20\n",
      "829/829 [==============================] - 178s 214ms/step - loss: 0.0027 - accuracy: 0.9990\n",
      "Epoch 13/20\n",
      "829/829 [==============================] - 178s 215ms/step - loss: 0.0037 - accuracy: 0.9989\n",
      "Epoch 14/20\n",
      "829/829 [==============================] - 178s 215ms/step - loss: 0.0027 - accuracy: 0.9990\n",
      "Epoch 15/20\n",
      "829/829 [==============================] - 178s 214ms/step - loss: 0.0017 - accuracy: 0.9995\n",
      "Epoch 16/20\n",
      "829/829 [==============================] - 180s 217ms/step - loss: 0.0014 - accuracy: 0.9995\n",
      "Epoch 17/20\n",
      "829/829 [==============================] - 180s 218ms/step - loss: 0.0021 - accuracy: 0.9993\n",
      "Epoch 18/20\n",
      "829/829 [==============================] - 200s 242ms/step - loss: 0.0023 - accuracy: 0.9993\n",
      "Epoch 19/20\n",
      "829/829 [==============================] - 187s 226ms/step - loss: 0.0021 - accuracy: 0.9994\n",
      "Epoch 20/20\n",
      "829/829 [==============================] - 213s 256ms/step - loss: 6.4312e-04 - accuracy: 0.9998\n"
     ]
    },
    {
     "data": {
      "text/plain": [
       "<keras.src.callbacks.History at 0x7fb80dbe1240>"
      ]
     },
     "execution_count": 11,
     "metadata": {},
     "output_type": "execute_result"
    }
   ],
   "source": [
    "model.fit(data,labels, batch_size=48, epochs= 20)"
   ]
  },
  {
   "cell_type": "markdown",
   "id": "ca33f2b8",
   "metadata": {
    "papermill": {
     "duration": 1.888715,
     "end_time": "2023-12-13T16:13:29.505755",
     "exception": false,
     "start_time": "2023-12-13T16:13:27.617040",
     "status": "completed"
    },
    "tags": []
   },
   "source": [
    "# Making Predictions"
   ]
  },
  {
   "cell_type": "markdown",
   "id": "059e3f16",
   "metadata": {
    "papermill": {
     "duration": 1.785277,
     "end_time": "2023-12-13T16:13:32.925565",
     "exception": false,
     "start_time": "2023-12-13T16:13:31.140288",
     "status": "completed"
    },
    "tags": []
   },
   "source": [
    "Using the trained model (model) to predict the probabilities for each class (in this case, binary classification with two classes). Finally, it extracts the predicted probabilities for the positive class (class 1) and stores them in the pred variable. These probabilities can be used for further analysis or evaluation."
   ]
  },
  {
   "cell_type": "code",
   "execution_count": 12,
   "id": "5477f3c9",
   "metadata": {
    "execution": {
     "iopub.execute_input": "2023-12-13T16:13:36.449730Z",
     "iopub.status.busy": "2023-12-13T16:13:36.449276Z",
     "iopub.status.idle": "2023-12-13T16:13:37.182813Z",
     "shell.execute_reply": "2023-12-13T16:13:37.180851Z"
    },
    "papermill": {
     "duration": 2.407502,
     "end_time": "2023-12-13T16:13:37.185432",
     "exception": false,
     "start_time": "2023-12-13T16:13:34.777930",
     "status": "completed"
    },
    "tags": []
   },
   "outputs": [
    {
     "name": "stdout",
     "output_type": "stream",
     "text": [
      "1/1 [==============================] - 1s 636ms/step\n"
     ]
    }
   ],
   "source": [
    "df_test = pd.read_csv('/kaggle/input/llm-detect-ai-generated-text/test_essays.csv')\n",
    "test_sequences = tokenizer.texts_to_sequences(df_test.text)\n",
    "testdata = pad_sequences(test_sequences, maxlen = max_sequence_length)\n",
    "predicted= model.predict(testdata)\n",
    "pred = predicted[:, 1]"
   ]
  },
  {
   "cell_type": "code",
   "execution_count": 13,
   "id": "b0c2b3bc",
   "metadata": {
    "execution": {
     "iopub.execute_input": "2023-12-13T16:13:40.558254Z",
     "iopub.status.busy": "2023-12-13T16:13:40.557472Z",
     "iopub.status.idle": "2023-12-13T16:13:40.565444Z",
     "shell.execute_reply": "2023-12-13T16:13:40.564522Z"
    },
    "papermill": {
     "duration": 1.660816,
     "end_time": "2023-12-13T16:13:40.567873",
     "exception": false,
     "start_time": "2023-12-13T16:13:38.907057",
     "status": "completed"
    },
    "tags": []
   },
   "outputs": [
    {
     "data": {
      "text/plain": [
       "array([0.9492775, 0.9492775, 0.9492775], dtype=float32)"
      ]
     },
     "execution_count": 13,
     "metadata": {},
     "output_type": "execute_result"
    }
   ],
   "source": [
    "pred"
   ]
  }
 ],
 "metadata": {
  "kaggle": {
   "accelerator": "none",
   "dataSources": [
    {
     "databundleVersionId": 6888007,
     "sourceId": 61542,
     "sourceType": "competition"
    },
    {
     "datasetId": 3942644,
     "sourceId": 6890527,
     "sourceType": "datasetVersion"
    }
   ],
   "dockerImageVersionId": 30615,
   "isGpuEnabled": false,
   "isInternetEnabled": true,
   "language": "python",
   "sourceType": "notebook"
  },
  "kernelspec": {
   "display_name": "Python 3",
   "language": "python",
   "name": "python3"
  },
  "language_info": {
   "codemirror_mode": {
    "name": "ipython",
    "version": 3
   },
   "file_extension": ".py",
   "mimetype": "text/x-python",
   "name": "python",
   "nbconvert_exporter": "python",
   "pygments_lexer": "ipython3",
   "version": "3.10.12"
  },
  "papermill": {
   "default_parameters": {},
   "duration": 3749.862895,
   "end_time": "2023-12-13T16:13:45.567423",
   "environment_variables": {},
   "exception": null,
   "input_path": "__notebook__.ipynb",
   "output_path": "__notebook__.ipynb",
   "parameters": {},
   "start_time": "2023-12-13T15:11:15.704528",
   "version": "2.4.0"
  }
 },
 "nbformat": 4,
 "nbformat_minor": 5
}
